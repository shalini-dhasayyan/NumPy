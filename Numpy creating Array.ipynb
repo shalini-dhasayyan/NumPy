{
 "cells": [
  {
   "cell_type": "markdown",
   "id": "d39ffdac",
   "metadata": {},
   "source": [
    "#                       NUMPY"
   ]
  },
  {
   "cell_type": "markdown",
   "id": "26b8a615",
   "metadata": {},
   "source": [
    "# Creating Array"
   ]
  },
  {
   "cell_type": "code",
   "execution_count": 15,
   "id": "9710529d",
   "metadata": {},
   "outputs": [],
   "source": [
    "import numpy as np\n"
   ]
  },
  {
   "cell_type": "code",
   "execution_count": 16,
   "id": "afac4d6e",
   "metadata": {},
   "outputs": [],
   "source": [
    "my_list1 = [1,2,3,4,5]# created list"
   ]
  },
  {
   "cell_type": "code",
   "execution_count": 17,
   "id": "ac5dd01e",
   "metadata": {},
   "outputs": [],
   "source": [
    "my_array1 =np.array(my_list1)#make an array one dimensional"
   ]
  },
  {
   "cell_type": "code",
   "execution_count": 18,
   "id": "8e10eeed",
   "metadata": {},
   "outputs": [
    {
     "data": {
      "text/plain": [
       "array([1, 2, 3, 4, 5])"
      ]
     },
     "execution_count": 18,
     "metadata": {},
     "output_type": "execute_result"
    }
   ],
   "source": [
    "my_array1\n"
   ]
  },
  {
   "cell_type": "code",
   "execution_count": 19,
   "id": "2f225d09",
   "metadata": {},
   "outputs": [],
   "source": [
    "my_list2 = [12,23,33,43,53]"
   ]
  },
  {
   "cell_type": "code",
   "execution_count": 20,
   "id": "97e23de1",
   "metadata": {},
   "outputs": [],
   "source": [
    "my_list3=[my_list1,my_list2]#two dimensional array"
   ]
  },
  {
   "cell_type": "code",
   "execution_count": 25,
   "id": "00e8f572",
   "metadata": {},
   "outputs": [],
   "source": [
    "my_array2=np.array(my_list3)#creating two dimensional array"
   ]
  },
  {
   "cell_type": "code",
   "execution_count": 26,
   "id": "49d6c4e6",
   "metadata": {},
   "outputs": [
    {
     "data": {
      "text/plain": [
       "array([[ 1,  2,  3,  4,  5],\n",
       "       [12, 23, 33, 43, 53]])"
      ]
     },
     "execution_count": 26,
     "metadata": {},
     "output_type": "execute_result"
    }
   ],
   "source": [
    "my_array2"
   ]
  },
  {
   "cell_type": "code",
   "execution_count": 27,
   "id": "12418c63",
   "metadata": {},
   "outputs": [
    {
     "data": {
      "text/plain": [
       "(2, 5)"
      ]
     },
     "execution_count": 27,
     "metadata": {},
     "output_type": "execute_result"
    }
   ],
   "source": [
    "my_array2.shape# shape of  array 2 rows ,5column"
   ]
  },
  {
   "cell_type": "code",
   "execution_count": 28,
   "id": "f35350f7",
   "metadata": {},
   "outputs": [
    {
     "data": {
      "text/plain": [
       "dtype('int32')"
      ]
     },
     "execution_count": 28,
     "metadata": {},
     "output_type": "execute_result"
    }
   ],
   "source": [
    "my_array2.dtype# get the datatype"
   ]
  },
  {
   "cell_type": "code",
   "execution_count": 29,
   "id": "1f4603be",
   "metadata": {},
   "outputs": [
    {
     "data": {
      "text/plain": [
       "array([0., 0., 0., 0., 0., 0., 0., 0., 0., 0.])"
      ]
     },
     "execution_count": 29,
     "metadata": {},
     "output_type": "execute_result"
    }
   ],
   "source": [
    "np.zeros(10)#get 10 zeros"
   ]
  },
  {
   "cell_type": "code",
   "execution_count": 30,
   "id": "c6ba65a1",
   "metadata": {},
   "outputs": [],
   "source": [
    "check_array_type=np.zeros(10)#check datatype of zeros"
   ]
  },
  {
   "cell_type": "code",
   "execution_count": 32,
   "id": "3ea7883d",
   "metadata": {},
   "outputs": [
    {
     "data": {
      "text/plain": [
       "dtype('float64')"
      ]
     },
     "execution_count": 32,
     "metadata": {},
     "output_type": "execute_result"
    }
   ],
   "source": [
    "check_array_type.dtype"
   ]
  },
  {
   "cell_type": "code",
   "execution_count": 33,
   "id": "034c27bf",
   "metadata": {},
   "outputs": [
    {
     "data": {
      "text/plain": [
       "array([[1., 1., 1., 1., 1., 1., 1.],\n",
       "       [1., 1., 1., 1., 1., 1., 1.],\n",
       "       [1., 1., 1., 1., 1., 1., 1.],\n",
       "       [1., 1., 1., 1., 1., 1., 1.],\n",
       "       [1., 1., 1., 1., 1., 1., 1.],\n",
       "       [1., 1., 1., 1., 1., 1., 1.],\n",
       "       [1., 1., 1., 1., 1., 1., 1.]])"
      ]
     },
     "execution_count": 33,
     "metadata": {},
     "output_type": "execute_result"
    }
   ],
   "source": [
    "np.ones([7,7])#multidimensional array"
   ]
  },
  {
   "cell_type": "code",
   "execution_count": 41,
   "id": "317cbd21",
   "metadata": {},
   "outputs": [
    {
     "data": {
      "text/plain": [
       "array([1., 1., 1., 1., 1., 1., 1.])"
      ]
     },
     "execution_count": 41,
     "metadata": {},
     "output_type": "execute_result"
    }
   ],
   "source": [
    "np.empty(7) # create empty array"
   ]
  },
  {
   "cell_type": "code",
   "execution_count": 39,
   "id": "09e7348e",
   "metadata": {},
   "outputs": [
    {
     "data": {
      "text/plain": [
       "array([[1., 0., 0., 0., 0., 0., 0.],\n",
       "       [0., 1., 0., 0., 0., 0., 0.],\n",
       "       [0., 0., 1., 0., 0., 0., 0.],\n",
       "       [0., 0., 0., 1., 0., 0., 0.],\n",
       "       [0., 0., 0., 0., 1., 0., 0.],\n",
       "       [0., 0., 0., 0., 0., 1., 0.],\n",
       "       [0., 0., 0., 0., 0., 0., 1.]])"
      ]
     },
     "execution_count": 39,
     "metadata": {},
     "output_type": "execute_result"
    }
   ],
   "source": [
    "np.eye(7)#identity matrix 7*7 array of 0 with 1 on diagonal"
   ]
  },
  {
   "cell_type": "code",
   "execution_count": 42,
   "id": "3b47844f",
   "metadata": {},
   "outputs": [
    {
     "data": {
      "text/plain": [
       "array([0, 1, 2, 3, 4, 5, 6])"
      ]
     },
     "execution_count": 42,
     "metadata": {},
     "output_type": "execute_result"
    }
   ],
   "source": [
    "np.arange(7)# get range"
   ]
  },
  {
   "cell_type": "code",
   "execution_count": 40,
   "id": "f56d27f2",
   "metadata": {},
   "outputs": [
    {
     "data": {
      "text/plain": [
       "array([ 6,  8, 10, 12, 14, 16, 18, 20, 22, 24, 26, 28, 30, 32, 34, 36, 38])"
      ]
     },
     "execution_count": 40,
     "metadata": {},
     "output_type": "execute_result"
    }
   ],
   "source": [
    "np.arange(6,40,2)"
   ]
  },
  {
   "cell_type": "code",
   "execution_count": null,
   "id": "5cc3102a",
   "metadata": {},
   "outputs": [],
   "source": []
  }
 ],
 "metadata": {
  "kernelspec": {
   "display_name": "Python 3 (ipykernel)",
   "language": "python",
   "name": "python3"
  },
  "language_info": {
   "codemirror_mode": {
    "name": "ipython",
    "version": 3
   },
   "file_extension": ".py",
   "mimetype": "text/x-python",
   "name": "python",
   "nbconvert_exporter": "python",
   "pygments_lexer": "ipython3",
   "version": "3.10.9"
  }
 },
 "nbformat": 4,
 "nbformat_minor": 5
}
