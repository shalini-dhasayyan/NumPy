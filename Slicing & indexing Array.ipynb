{
 "cells": [
  {
   "cell_type": "markdown",
   "id": "cc04d43c",
   "metadata": {},
   "source": [
    "# Slicing & Indexing"
   ]
  },
  {
   "cell_type": "code",
   "execution_count": 1,
   "id": "2ff1da0f",
   "metadata": {},
   "outputs": [],
   "source": [
    "import numpy as np"
   ]
  },
  {
   "cell_type": "code",
   "execution_count": 20,
   "id": "fbf88506",
   "metadata": {},
   "outputs": [],
   "source": [
    "arr=np.arange(0,16)"
   ]
  },
  {
   "cell_type": "code",
   "execution_count": 21,
   "id": "f4762479",
   "metadata": {},
   "outputs": [
    {
     "data": {
      "text/plain": [
       "array([ 0,  1,  2,  3,  4,  5,  6,  7,  8,  9, 10, 11, 12, 13, 14, 15])"
      ]
     },
     "execution_count": 21,
     "metadata": {},
     "output_type": "execute_result"
    }
   ],
   "source": [
    "arr"
   ]
  },
  {
   "cell_type": "code",
   "execution_count": 22,
   "id": "c8b0662c",
   "metadata": {},
   "outputs": [
    {
     "data": {
      "text/plain": [
       "10"
      ]
     },
     "execution_count": 22,
     "metadata": {},
     "output_type": "execute_result"
    }
   ],
   "source": [
    "arr[10] #call the values of 10 using index"
   ]
  },
  {
   "cell_type": "code",
   "execution_count": 23,
   "id": "1637d3c8",
   "metadata": {},
   "outputs": [
    {
     "data": {
      "text/plain": [
       "array([0, 1, 2, 3, 4, 5, 6, 7])"
      ]
     },
     "execution_count": 23,
     "metadata": {},
     "output_type": "execute_result"
    }
   ],
   "source": [
    "arr[0:8]# 0 t0 8"
   ]
  },
  {
   "cell_type": "code",
   "execution_count": 24,
   "id": "e7a58893",
   "metadata": {},
   "outputs": [],
   "source": [
    "arr[0:10]=88#set allthe values of index 0 to 10 to set value as 88"
   ]
  },
  {
   "cell_type": "code",
   "execution_count": 25,
   "id": "eb20afad",
   "metadata": {},
   "outputs": [
    {
     "data": {
      "text/plain": [
       "array([88, 88, 88, 88, 88, 88, 88, 88, 88, 88, 10, 11, 12, 13, 14, 15])"
      ]
     },
     "execution_count": 25,
     "metadata": {},
     "output_type": "execute_result"
    }
   ],
   "source": [
    "arr\n"
   ]
  },
  {
   "cell_type": "code",
   "execution_count": 26,
   "id": "409ddb38",
   "metadata": {},
   "outputs": [],
   "source": [
    "arr[1]=20#set the value of 1'st index as 20"
   ]
  },
  {
   "cell_type": "code",
   "execution_count": 27,
   "id": "0c65b4da",
   "metadata": {},
   "outputs": [
    {
     "data": {
      "text/plain": [
       "array([88, 20, 88, 88, 88, 88, 88, 88, 88, 88, 10, 11, 12, 13, 14, 15])"
      ]
     },
     "execution_count": 27,
     "metadata": {},
     "output_type": "execute_result"
    }
   ],
   "source": [
    "arr"
   ]
  },
  {
   "cell_type": "code",
   "execution_count": 28,
   "id": "8e862153",
   "metadata": {},
   "outputs": [],
   "source": [
    "aar=arr[:]"
   ]
  },
  {
   "cell_type": "code",
   "execution_count": 33,
   "id": "a7be3033",
   "metadata": {},
   "outputs": [
    {
     "data": {
      "text/plain": [
       "array([[2, 4, 6],\n",
       "       [3, 7, 8],\n",
       "       [3, 5, 7]])"
      ]
     },
     "execution_count": 33,
     "metadata": {},
     "output_type": "execute_result"
    }
   ],
   "source": [
    "arr_r=np.array(([2,4,6],[3,7,8],[3,5,7]))# make anarray three dimentional\n",
    "arr_r"
   ]
  },
  {
   "cell_type": "code",
   "execution_count": 39,
   "id": "f55a6af7",
   "metadata": {},
   "outputs": [
    {
     "data": {
      "text/plain": [
       "(array([2, 4, 6]), array([3, 7, 8]), array([3, 5, 7]))"
      ]
     },
     "execution_count": 39,
     "metadata": {},
     "output_type": "execute_result"
    }
   ],
   "source": [
    "arr_r[0],arr_r[1],arr_r[2]"
   ]
  },
  {
   "cell_type": "code",
   "execution_count": 40,
   "id": "50c7cad5",
   "metadata": {},
   "outputs": [
    {
     "data": {
      "text/plain": [
       "8"
      ]
     },
     "execution_count": 40,
     "metadata": {},
     "output_type": "execute_result"
    }
   ],
   "source": [
    "arr_r[1][2]"
   ]
  },
  {
   "cell_type": "code",
   "execution_count": 45,
   "id": "9e63d780",
   "metadata": {},
   "outputs": [
    {
     "data": {
      "text/plain": [
       "array([[2, 4, 6],\n",
       "       [3, 7, 8],\n",
       "       [3, 5, 7]])"
      ]
     },
     "execution_count": 45,
     "metadata": {},
     "output_type": "execute_result"
    }
   ],
   "source": [
    "arr_r"
   ]
  }
 ],
 "metadata": {
  "kernelspec": {
   "display_name": "Python 3 (ipykernel)",
   "language": "python",
   "name": "python3"
  },
  "language_info": {
   "codemirror_mode": {
    "name": "ipython",
    "version": 3
   },
   "file_extension": ".py",
   "mimetype": "text/x-python",
   "name": "python",
   "nbconvert_exporter": "python",
   "pygments_lexer": "ipython3",
   "version": "3.10.9"
  }
 },
 "nbformat": 4,
 "nbformat_minor": 5
}
