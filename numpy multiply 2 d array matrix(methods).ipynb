{
 "cells": [
  {
   "cell_type": "code",
   "execution_count": 5,
   "id": "dbfcd72e",
   "metadata": {},
   "outputs": [
    {
     "name": "stdout",
     "output_type": "stream",
     "text": [
      "[[ 3560  8348]\n",
      " [ 4514 10630]]\n"
     ]
    }
   ],
   "source": [
    "import numpy as np\n",
    "                        # two dimensional arrays\n",
    "m1 = np.array([[16,44,72],[29,52,89]])\n",
    "m2 = np.array([[18,49],[22,59],[32,69]])\n",
    "m3 = np.dot(m1,m2) \n",
    "print(m3) "
   ]
  },
  {
   "cell_type": "code",
   "execution_count": 6,
   "id": "7fd09493",
   "metadata": {},
   "outputs": [
    {
     "name": "stdout",
     "output_type": "stream",
     "text": [
      "[[7548 7434 9504]\n",
      " [4013 4633 5868]\n",
      " [4089 3930 5196]]\n"
     ]
    }
   ],
   "source": [
    "m1 = ([14, 60, 54],[37 ,40, 8],[22, 12, 39]) \n",
    "m2 = ([33, 45, 60],[56, 63, 76],[69,56, 76]) \n",
    "m3 = np.dot(m1,m2) \n",
    "print(m3) "
   ]
  },
  {
   "cell_type": "code",
   "execution_count": 4,
   "id": "875d1d01",
   "metadata": {},
   "outputs": [
    {
     "name": "stdout",
     "output_type": "stream",
     "text": [
      "[[14307  4174]\n",
      " [ 8873  2617]]\n",
      "************\n",
      "[[7416 7661]\n",
      " [9151 9508]]\n"
     ]
    }
   ],
   "source": [
    "import numpy as np\n",
    "\n",
    "A = [[77, 89],\n",
    "      [68, 39]]\n",
    "      \n",
    "B = [[76, 23],\n",
    "      [95, 27]]\n",
    "\n",
    "print(np.dot(A,B))\n",
    "\n",
    "print(\"************\")\n",
    "\n",
    "print(np.dot(B,A))"
   ]
  },
  {
   "cell_type": "code",
   "execution_count": 15,
   "id": "ce126b12",
   "metadata": {},
   "outputs": [
    {
     "name": "stdout",
     "output_type": "stream",
     "text": [
      "[6265 6430]\n"
     ]
    }
   ],
   "source": [
    "import numpy as np\n",
    "\n",
    "A = [[35, 70],\n",
    "      [50, 65]]\n",
    " \n",
    "B = [35, 72]\n",
    " \n",
    "print(np.matmul(A,B))"
   ]
  },
  {
   "cell_type": "code",
   "execution_count": 10,
   "id": "c41b7160",
   "metadata": {},
   "outputs": [
    {
     "name": "stdout",
     "output_type": "stream",
     "text": [
      "[[2501 1806  365  308   45]\n",
      " [2295 2303  438 2436   10]]\n"
     ]
    }
   ],
   "source": [
    "import numpy as np\n",
    "\n",
    "A = np.array([[61, 43, 5, 77, 9], [27, 49, 6, 87, 10]])\n",
    "\n",
    "B = np.array([[41, 42, 73, 4, 5], [85, 47, 73, 28, 1]])\n",
    "\n",
    "print(np.multiply(A,B))"
   ]
  },
  {
   "cell_type": "code",
   "execution_count": null,
   "id": "ab3c2039",
   "metadata": {},
   "outputs": [],
   "source": []
  }
 ],
 "metadata": {
  "kernelspec": {
   "display_name": "Python 3 (ipykernel)",
   "language": "python",
   "name": "python3"
  },
  "language_info": {
   "codemirror_mode": {
    "name": "ipython",
    "version": 3
   },
   "file_extension": ".py",
   "mimetype": "text/x-python",
   "name": "python",
   "nbconvert_exporter": "python",
   "pygments_lexer": "ipython3",
   "version": "3.10.9"
  }
 },
 "nbformat": 4,
 "nbformat_minor": 5
}
