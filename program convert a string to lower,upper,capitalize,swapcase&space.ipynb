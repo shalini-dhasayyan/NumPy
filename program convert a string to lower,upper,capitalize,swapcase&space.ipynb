{
 "cells": [
  {
   "cell_type": "code",
   "execution_count": 10,
   "id": "fdae2dfc",
   "metadata": {},
   "outputs": [
    {
     "name": "stdout",
     "output_type": "stream",
     "text": [
      "Capitalize First Letter Conver ['I' 'Know to' 'Read' 'Pandas']\n",
      "Titlecase Conver  ['I' 'Know To' 'Read' 'Pandas']\n",
      "Swapcase Conversion  ['I' 'KNOW TO' 'READ' 'PANDAS']\n",
      "Upper Conver  ['I' 'KNOW TO' 'READ' 'PANDAS']\n",
      "Lower Conver:  ['i' 'know to' 'read' 'pandas']\n"
     ]
    }
   ],
   "source": [
    "import numpy as np\n",
    "\n",
    "# Create Sample NumPy array\n",
    "arr = np.array(['i','know to','read', 'pandas'])\n",
    "capitalizecase_arr = np.char.capitalize(arr)\n",
    "titlecase_arr = np.char.title(arr)\n",
    "swapcase_arr = np.char.swapcase(arr)\n",
    "uppercase_arr = np.char.upper(arr)\n",
    "lowercase_arr = np.char.lower(arr)\n",
    "\n",
    "print(\"Capitalize First Letter Conver\", capitalizecase_arr)\n",
    "print(\"Titlecase Conver \", titlecase_arr)\n",
    "print(\"Swapcase Conversion \", swapcase_arr)\n",
    "print(\"Upper Conver \", uppercase_arr)\n",
    "print(\"Lower Conver: \", lowercase_arr)\n"
   ]
  },
  {
   "cell_type": "code",
   "execution_count": 14,
   "id": "91e5b190",
   "metadata": {},
   "outputs": [
    {
     "name": "stdout",
     "output_type": "stream",
     "text": [
      "['i' 'k n o w   t o' 'r e a d']\n"
     ]
    }
   ],
   "source": [
    "import numpy as np\n",
    "\n",
    "                     # Create Sample NumPy Array\n",
    "arr = np.array(['i', 'know to','read'], dtype=str)\n",
    "\n",
    "transformed_arr = np.char.join(\" \", arr)\n",
    "\n",
    "print(transformed_arr)"
   ]
  },
  {
   "cell_type": "code",
   "execution_count": null,
   "id": "357b7961",
   "metadata": {},
   "outputs": [],
   "source": []
  }
 ],
 "metadata": {
  "kernelspec": {
   "display_name": "Python 3 (ipykernel)",
   "language": "python",
   "name": "python3"
  },
  "language_info": {
   "codemirror_mode": {
    "name": "ipython",
    "version": 3
   },
   "file_extension": ".py",
   "mimetype": "text/x-python",
   "name": "python",
   "nbconvert_exporter": "python",
   "pygments_lexer": "ipython3",
   "version": "3.10.9"
  }
 },
 "nbformat": 4,
 "nbformat_minor": 5
}
