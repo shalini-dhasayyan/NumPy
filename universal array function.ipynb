{
 "cells": [
  {
   "cell_type": "markdown",
   "id": "0d6c4778",
   "metadata": {},
   "source": [
    "Array function(Universal)"
   ]
  },
  {
   "cell_type": "code",
   "execution_count": 2,
   "id": "2c5f2bff",
   "metadata": {},
   "outputs": [],
   "source": [
    "import numpy as np"
   ]
  },
  {
   "cell_type": "code",
   "execution_count": 3,
   "id": "30aae955",
   "metadata": {},
   "outputs": [],
   "source": [
    "arr=np.arange(15)"
   ]
  },
  {
   "cell_type": "code",
   "execution_count": 4,
   "id": "60cfe5f6",
   "metadata": {},
   "outputs": [
    {
     "data": {
      "text/plain": [
       "array([ 0,  1,  2,  3,  4,  5,  6,  7,  8,  9, 10, 11, 12, 13, 14])"
      ]
     },
     "execution_count": 4,
     "metadata": {},
     "output_type": "execute_result"
    }
   ],
   "source": [
    "arr"
   ]
  },
  {
   "cell_type": "code",
   "execution_count": 5,
   "id": "bb447c45",
   "metadata": {},
   "outputs": [
    {
     "data": {
      "text/plain": [
       "array([0.        , 1.        , 1.41421356, 1.73205081, 2.        ,\n",
       "       2.23606798, 2.44948974, 2.64575131, 2.82842712, 3.        ,\n",
       "       3.16227766, 3.31662479, 3.46410162, 3.60555128, 3.74165739])"
      ]
     },
     "execution_count": 5,
     "metadata": {},
     "output_type": "execute_result"
    }
   ],
   "source": [
    "np.sqrt(arr)"
   ]
  },
  {
   "cell_type": "code",
   "execution_count": 6,
   "id": "ec68f1ca",
   "metadata": {},
   "outputs": [
    {
     "data": {
      "text/plain": [
       "array([1.00000000e+00, 2.71828183e+00, 7.38905610e+00, 2.00855369e+01,\n",
       "       5.45981500e+01, 1.48413159e+02, 4.03428793e+02, 1.09663316e+03,\n",
       "       2.98095799e+03, 8.10308393e+03, 2.20264658e+04, 5.98741417e+04,\n",
       "       1.62754791e+05, 4.42413392e+05, 1.20260428e+06])"
      ]
     },
     "execution_count": 6,
     "metadata": {},
     "output_type": "execute_result"
    }
   ],
   "source": [
    "np.exp(arr)"
   ]
  },
  {
   "cell_type": "code",
   "execution_count": 10,
   "id": "4a4911e8",
   "metadata": {},
   "outputs": [],
   "source": [
    "S=np.random.randn(20)"
   ]
  },
  {
   "cell_type": "code",
   "execution_count": 11,
   "id": "48111b01",
   "metadata": {},
   "outputs": [
    {
     "data": {
      "text/plain": [
       "array([ 1.12832187,  2.51481926, -2.11028472, -1.24718548,  0.27639505,\n",
       "        0.53825631, -0.72150328,  1.54759723,  0.00921579, -1.92013576,\n",
       "       -1.02989525,  1.64813348, -0.74481944,  0.577187  ,  0.37178551,\n",
       "        0.46133678, -0.90037333,  1.14598464, -1.18010922,  0.49025578])"
      ]
     },
     "execution_count": 11,
     "metadata": {},
     "output_type": "execute_result"
    }
   ],
   "source": [
    "S"
   ]
  },
  {
   "cell_type": "code",
   "execution_count": 12,
   "id": "0cfd237e",
   "metadata": {},
   "outputs": [],
   "source": [
    "N=np.random.randn(20)"
   ]
  },
  {
   "cell_type": "code",
   "execution_count": 13,
   "id": "4f749a6a",
   "metadata": {},
   "outputs": [
    {
     "data": {
      "text/plain": [
       "array([-1.08168606e+00, -4.21216944e-01,  1.51070200e+00,  1.17493285e+00,\n",
       "        2.22912116e-01, -1.66537244e-02, -6.02343501e-01,  1.03760486e+00,\n",
       "        6.89273344e-02, -5.37147459e-01, -6.69109574e-01, -3.54939167e-01,\n",
       "       -8.21300951e-01,  1.39920060e-03,  2.69993146e-01,  1.01127293e-01,\n",
       "       -1.34309128e+00, -4.84268541e-02,  1.43722773e+00,  6.94445125e-01])"
      ]
     },
     "execution_count": 13,
     "metadata": {},
     "output_type": "execute_result"
    }
   ],
   "source": [
    "N"
   ]
  },
  {
   "cell_type": "code",
   "execution_count": 14,
   "id": "3f4b7d30",
   "metadata": {},
   "outputs": [
    {
     "data": {
      "text/plain": [
       "array([ 0.04663581,  2.09360231, -0.59958272, -0.07225263,  0.49930716,\n",
       "        0.52160259, -1.32384678,  2.5852021 ,  0.07814313, -2.45728322,\n",
       "       -1.69900482,  1.29319431, -1.5661204 ,  0.5785862 ,  0.64177865,\n",
       "        0.56246407, -2.2434646 ,  1.09755779,  0.25711851,  1.1847009 ])"
      ]
     },
     "execution_count": 14,
     "metadata": {},
     "output_type": "execute_result"
    }
   ],
   "source": [
    "np.add(N,S)"
   ]
  },
  {
   "cell_type": "code",
   "execution_count": 15,
   "id": "8a732998",
   "metadata": {},
   "outputs": [
    {
     "data": {
      "text/plain": [
       "array([ 1.12832187,  2.51481926,  1.510702  ,  1.17493285,  0.27639505,\n",
       "        0.53825631, -0.6023435 ,  1.54759723,  0.06892733, -0.53714746,\n",
       "       -0.66910957,  1.64813348, -0.74481944,  0.577187  ,  0.37178551,\n",
       "        0.46133678, -0.90037333,  1.14598464,  1.43722773,  0.69444513])"
      ]
     },
     "execution_count": 15,
     "metadata": {},
     "output_type": "execute_result"
    }
   ],
   "source": [
    "np.maximum(N,S)"
   ]
  },
  {
   "cell_type": "code",
   "execution_count": null,
   "id": "a8db9f4a",
   "metadata": {},
   "outputs": [],
   "source": []
  }
 ],
 "metadata": {
  "kernelspec": {
   "display_name": "Python 3 (ipykernel)",
   "language": "python",
   "name": "python3"
  },
  "language_info": {
   "codemirror_mode": {
    "name": "ipython",
    "version": 3
   },
   "file_extension": ".py",
   "mimetype": "text/x-python",
   "name": "python",
   "nbconvert_exporter": "python",
   "pygments_lexer": "ipython3",
   "version": "3.10.9"
  }
 },
 "nbformat": 4,
 "nbformat_minor": 5
}
